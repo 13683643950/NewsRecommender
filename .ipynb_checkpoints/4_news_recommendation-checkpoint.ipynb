{
 "cells": [
  {
   "cell_type": "code",
   "execution_count": 1,
   "metadata": {
    "collapsed": true
   },
   "outputs": [],
   "source": [
    "from sklearn.metrics import recall_score, precision_score, f1_score, roc_curve, roc_auc_score\n",
    "from sklearn import cluster\n",
    "from sklearn.metrics.pairwise import cosine_similarity, euclidean_distances\n",
    "\n",
    "import pandas as pd\n",
    "import numpy as np\n",
    "import operator\n",
    "import re\n",
    "from time import sleep\n",
    "import pprint\n",
    "import pickle\n",
    "from pymongo import MongoClient\n",
    "\n",
    "import matplotlib.pyplot as plt\n",
    "import seaborn as sns\n",
    "%matplotlib inline"
   ]
  },
  {
   "cell_type": "code",
   "execution_count": 2,
   "metadata": {
    "collapsed": true
   },
   "outputs": [],
   "source": [
    "def SaveDict(filename, mode, root):\n",
    "    if filename[-4:]!=\".txt\":\n",
    "        filename+=\".txt\"\n",
    "    with open(filename, mode) as f:\n",
    "        f.write(pprint.pformat(root))\n",
    "\n",
    "def LoadDict(filename):\n",
    "    if filename[-4:]!=\".txt\":\n",
    "        filename+=\".txt\"\n",
    "    with open(filename, \"r\") as f:\n",
    "        return eval(f.read())"
   ]
  },
  {
   "cell_type": "code",
   "execution_count": 3,
   "metadata": {
    "collapsed": false
   },
   "outputs": [],
   "source": [
    "def hellinger_dist(vec1, vec2):\n",
    "    dist = np.sqrt(0.5 * ((np.sqrt(vec1) - np.sqrt(vec2))**2).sum())\n",
    "    return dist"
   ]
  },
  {
   "cell_type": "code",
   "execution_count": 4,
   "metadata": {
    "collapsed": true
   },
   "outputs": [],
   "source": [
    "def majority_vote(labels):\n",
    "    votes = {}\n",
    "    for i in labels:\n",
    "        if i in votes:\n",
    "            votes[i] += 1\n",
    "        else:\n",
    "            votes[i] = 1\n",
    "    if len(votes)>0:\n",
    "        return max(votes.iteritems(), key=operator.itemgetter(1))[0]\n",
    "    else:\n",
    "        return 5"
   ]
  },
  {
   "cell_type": "code",
   "execution_count": 5,
   "metadata": {
    "collapsed": false
   },
   "outputs": [],
   "source": [
    "def predict_user_group(name, validate=False):\n",
    "    user_active = db.active_users.find_one({\"name\": name})\n",
    "    user_not_active = db.user_merge.find_one({\"name\": name})\n",
    "    if not validate and user_active:\n",
    "        return user_active[\"label\"]\n",
    "    elif user_not_active:\n",
    "        labels = []\n",
    "        for retweet in user_not_active[\"tweet_ids\"]:\n",
    "            article = db.articles.find_one({\"id\": retweet})\n",
    "            if article and \"label\" in article:\n",
    "                labels.append(article[\"label\"])\n",
    "        return majority_vote(labels)\n",
    "    else:\n",
    "        return \"user not found!\""
   ]
  },
  {
   "cell_type": "code",
   "execution_count": 6,
   "metadata": {
    "collapsed": true
   },
   "outputs": [],
   "source": [
    "def binarize(arr, tol):\n",
    "    \"\"\"\n",
    "    Convert continous valued array to binary. \n",
    "    \"\"\"\n",
    "    arr[arr < tol] = 0\n",
    "    arr[arr >= tol] = 1\n",
    "    return arr"
   ]
  },
  {
   "cell_type": "code",
   "execution_count": 7,
   "metadata": {
    "collapsed": true
   },
   "outputs": [],
   "source": [
    "def article_score(article, lda_model, group):\n",
    "    doc = article[\"clean_text\"]\n",
    "    doc_dict = gensim.corpora.Dictionary([doc])\n",
    "    doc_corp = doc_dict.doc2bow(doc)\n",
    "    doc_vec = lda_model[doc_corp]\n",
    "    return gensim.matutils.cossim(group_topics[group], doc_vec)"
   ]
  },
  {
   "cell_type": "code",
   "execution_count": 8,
   "metadata": {
    "collapsed": false
   },
   "outputs": [],
   "source": [
    "client = MongoClient()\n",
    "db = client.twitter"
   ]
  },
  {
   "cell_type": "markdown",
   "metadata": {},
   "source": [
    "## News Recommendations for Each Group"
   ]
  },
  {
   "cell_type": "code",
   "execution_count": 9,
   "metadata": {
    "collapsed": true
   },
   "outputs": [],
   "source": [
    "def recommend_to_group(group):\n",
    "    scores = []\n",
    "    article_ids = []\n",
    "    for article in db.rec_articles.find():\n",
    "        article_ids.append(article[\"id\"])\n",
    "        if group != -1:\n",
    "            scores.append(article_score(article, lda_model, group))    \n",
    "        else:\n",
    "            score = 0\n",
    "            for i in range(6):\n",
    "                score += article_score(article, lda_model, i)\n",
    "            score /= 6.0\n",
    "            scores.append(score)\n",
    "    sorted_idx = np.argsort(-np.array(scores))[:]\n",
    "    rec_list = []\n",
    "    score_list = []\n",
    "    for i in sorted_idx:\n",
    "        rec_list.append(article_ids[i])\n",
    "        score_list.append(scores[i])\n",
    "    return rec_list, score_list"
   ]
  },
  {
   "cell_type": "code",
   "execution_count": 10,
   "metadata": {
    "collapsed": false
   },
   "outputs": [
    {
     "ename": "NameError",
     "evalue": "global name 'lda_model' is not defined",
     "output_type": "error",
     "traceback": [
      "\u001b[0;31m---------------------------------------------------------------------------\u001b[0m",
      "\u001b[0;31mNameError\u001b[0m                                 Traceback (most recent call last)",
      "\u001b[0;32m<ipython-input-10-e96cb01c3d05>\u001b[0m in \u001b[0;36m<module>\u001b[0;34m()\u001b[0m\n\u001b[1;32m      4\u001b[0m \u001b[0mdb\u001b[0m\u001b[0;34m.\u001b[0m\u001b[0mgroup_articles\u001b[0m\u001b[0;34m.\u001b[0m\u001b[0mdrop\u001b[0m\u001b[0;34m(\u001b[0m\u001b[0;34m)\u001b[0m\u001b[0;34m\u001b[0m\u001b[0m\n\u001b[1;32m      5\u001b[0m \u001b[0;32mfor\u001b[0m \u001b[0mi\u001b[0m \u001b[0;32min\u001b[0m \u001b[0mrange\u001b[0m\u001b[0;34m(\u001b[0m\u001b[0mnum_groups\u001b[0m\u001b[0;34m)\u001b[0m\u001b[0;34m:\u001b[0m\u001b[0;34m\u001b[0m\u001b[0m\n\u001b[0;32m----> 6\u001b[0;31m     \u001b[0marticles\u001b[0m\u001b[0;34m,\u001b[0m \u001b[0mscores\u001b[0m \u001b[0;34m=\u001b[0m \u001b[0mrecommend_to_group\u001b[0m\u001b[0;34m(\u001b[0m\u001b[0mi\u001b[0m\u001b[0;34m)\u001b[0m\u001b[0;34m\u001b[0m\u001b[0m\n\u001b[0m\u001b[1;32m      7\u001b[0m     \u001b[0mdb\u001b[0m\u001b[0;34m.\u001b[0m\u001b[0mgroup_articles\u001b[0m\u001b[0;34m.\u001b[0m\u001b[0minsert_one\u001b[0m\u001b[0;34m(\u001b[0m\u001b[0;34m{\u001b[0m\u001b[0;34m\"id\"\u001b[0m\u001b[0;34m:\u001b[0m \u001b[0mi\u001b[0m\u001b[0;34m,\u001b[0m \u001b[0;34m\"articles\"\u001b[0m\u001b[0;34m:\u001b[0m \u001b[0marticles\u001b[0m\u001b[0;34m,\u001b[0m \u001b[0;34m\"scores\"\u001b[0m\u001b[0;34m:\u001b[0m \u001b[0mscores\u001b[0m\u001b[0;34m}\u001b[0m\u001b[0;34m)\u001b[0m\u001b[0;34m\u001b[0m\u001b[0m\n",
      "\u001b[0;32m<ipython-input-9-0472495d6df7>\u001b[0m in \u001b[0;36mrecommend_to_group\u001b[0;34m(group)\u001b[0m\n\u001b[1;32m      5\u001b[0m         \u001b[0marticle_ids\u001b[0m\u001b[0;34m.\u001b[0m\u001b[0mappend\u001b[0m\u001b[0;34m(\u001b[0m\u001b[0marticle\u001b[0m\u001b[0;34m[\u001b[0m\u001b[0;34m\"id\"\u001b[0m\u001b[0;34m]\u001b[0m\u001b[0;34m)\u001b[0m\u001b[0;34m\u001b[0m\u001b[0m\n\u001b[1;32m      6\u001b[0m         \u001b[0;32mif\u001b[0m \u001b[0mgroup\u001b[0m \u001b[0;34m!=\u001b[0m \u001b[0;34m-\u001b[0m\u001b[0;36m1\u001b[0m\u001b[0;34m:\u001b[0m\u001b[0;34m\u001b[0m\u001b[0m\n\u001b[0;32m----> 7\u001b[0;31m             \u001b[0mscores\u001b[0m\u001b[0;34m.\u001b[0m\u001b[0mappend\u001b[0m\u001b[0;34m(\u001b[0m\u001b[0marticle_score\u001b[0m\u001b[0;34m(\u001b[0m\u001b[0marticle\u001b[0m\u001b[0;34m,\u001b[0m \u001b[0mlda_model\u001b[0m\u001b[0;34m,\u001b[0m \u001b[0mgroup\u001b[0m\u001b[0;34m)\u001b[0m\u001b[0;34m)\u001b[0m\u001b[0;34m\u001b[0m\u001b[0m\n\u001b[0m\u001b[1;32m      8\u001b[0m         \u001b[0;32melse\u001b[0m\u001b[0;34m:\u001b[0m\u001b[0;34m\u001b[0m\u001b[0m\n\u001b[1;32m      9\u001b[0m             \u001b[0mscore\u001b[0m \u001b[0;34m=\u001b[0m \u001b[0;36m0\u001b[0m\u001b[0;34m\u001b[0m\u001b[0m\n",
      "\u001b[0;31mNameError\u001b[0m: global name 'lda_model' is not defined"
     ]
    }
   ],
   "source": [
    "num_topics = 20\n",
    "num_groups = 6\n",
    "sample_size = 1000\n",
    "lda_model = models.ldamodel.LdaModel.load('./data/ldamodels_bow_'+str(num_topics)+'.lda')\n",
    "db.group_articles.drop()\n",
    "for i in range(num_groups):\n",
    "    articles, scores = recommend_to_group(i)\n",
    "    db.group_articles.insert_one({\"id\": i, \"articles\": articles, \"scores\": scores})"
   ]
  },
  {
   "cell_type": "code",
   "execution_count": 40,
   "metadata": {
    "collapsed": false
   },
   "outputs": [
    {
     "data": {
      "text/plain": [
       "<pymongo.results.InsertOneResult at 0x111502af0>"
      ]
     },
     "execution_count": 40,
     "metadata": {},
     "output_type": "execute_result"
    }
   ],
   "source": [
    "articles, scores = recommend_to_group(-1)\n",
    "db.group_articles.insert_one({\"id\": -1, \"articles\": articles, \"scores\": scores})"
   ]
  },
  {
   "cell_type": "markdown",
   "metadata": {},
   "source": [
    "## Validation of Group Assignment"
   ]
  },
  {
   "cell_type": "code",
   "execution_count": 24,
   "metadata": {
    "collapsed": true
   },
   "outputs": [],
   "source": [
    "group_topics = pickle.load(open('./data/group_lda_bow_topics.pkl','rb'))"
   ]
  },
  {
   "cell_type": "code",
   "execution_count": null,
   "metadata": {
    "collapsed": false
   },
   "outputs": [],
   "source": [
    "pred_group = []\n",
    "true_group = []\n",
    "for user in db.active_users.aggregate([{ \"$sample\": { \"size\": 1000 } } ]):\n",
    "    pred_group.append(predict_user_group(user[\"name\"], validate=True))\n",
    "    true_group.append(user[\"label\"])"
   ]
  },
  {
   "cell_type": "code",
   "execution_count": 335,
   "metadata": {
    "collapsed": false
   },
   "outputs": [
    {
     "name": "stdout",
     "output_type": "stream",
     "text": [
      "0.472\n"
     ]
    }
   ],
   "source": [
    "print recall_score(true_group, pred_group, average='micro')"
   ]
  },
  {
   "cell_type": "markdown",
   "metadata": {},
   "source": [
    "## Validation of News Recommendation (recall@k)"
   ]
  },
  {
   "cell_type": "code",
   "execution_count": 27,
   "metadata": {
    "collapsed": false
   },
   "outputs": [],
   "source": [
    "def recall_at_k(true, pred, group_ids, k, tol=1.):\n",
    "    true_binarized = binarize(true.copy(), tol=tol*np.mean(true))\n",
    "    pred_binarized = binarize(pred.copy(), tol=tol*np.mean(pred))\n",
    "    recalls = np.zeros(len(group_ids))\n",
    "    for i in range(len(group_ids)):        \n",
    "        group_true_binarized = true_binarized[i]\n",
    "        group_pred = pred[i]\n",
    "        group_pred_binarized = pred_binarized[i]\n",
    "        ranked_ind = np.argsort(-np.array(group_pred))[:k]\n",
    "        recalls[i] = recall_score(group_true_binarized[ranked_ind], group_pred_binarized[ranked_ind])\n",
    "    return np.mean(recalls[recalls > 0])"
   ]
  },
  {
   "cell_type": "code",
   "execution_count": 28,
   "metadata": {
    "collapsed": false
   },
   "outputs": [],
   "source": [
    "import gensim\n",
    "from gensim import corpora, models\n",
    "num_topics = 20\n",
    "num_groups = 6\n",
    "sample_size = 1000\n",
    "lda_model = models.ldamodel.LdaModel.load('./data/ldamodels_bow_'+str(num_topics)+'.lda')"
   ]
  },
  {
   "cell_type": "code",
   "execution_count": 29,
   "metadata": {
    "collapsed": false
   },
   "outputs": [
    {
     "name": "stderr",
     "output_type": "stream",
     "text": [
      "/usr/local/lib/python2.7/site-packages/sklearn/metrics/classification.py:1115: UndefinedMetricWarning: Recall is ill-defined and being set to 0.0 due to no true samples.\n",
      "  'recall', 'true', average, warn_for)\n"
     ]
    }
   ],
   "source": [
    "K_list = [5, 10, 15, 20, 25]\n",
    "rounds = 10\n",
    "\n",
    "recall = np.zeros((len(K_list), rounds))\n",
    "for r in range(rounds):\n",
    "    pred = np.zeros((num_groups, sample_size))\n",
    "    true = np.zeros((num_groups, sample_size))\n",
    "    i = 0\n",
    "    for article in db.articles.aggregate([{ \"$sample\": { \"size\": sample_size } } ]):\n",
    "        for group in range(num_groups):\n",
    "            if 'group '+str(group) in article:\n",
    "                pred[group,i] = article_score(article, lda_model, group)\n",
    "                true[group,i] = article[\"group \"+str(group)]\n",
    "        i += 1\n",
    "\n",
    "    for i in range(len(K_list)):\n",
    "        recall[i, r] = recall_at_k(true, pred, range(num_groups), K_list[i])"
   ]
  },
  {
   "cell_type": "code",
   "execution_count": 30,
   "metadata": {
    "collapsed": false
   },
   "outputs": [
    {
     "name": "stdout",
     "output_type": "stream",
     "text": [
      "recall @5 : 0.993\n",
      "recall @10 : 0.945\n",
      "recall @15 : 0.904\n",
      "recall @20 : 0.891\n",
      "recall @25 : 0.861\n"
     ]
    }
   ],
   "source": [
    "for i in range(len(K_list)):\n",
    "    print 'recall @'+str(K_list[i])+' : %0.3f' %np.mean(recall[i, :])"
   ]
  },
  {
   "cell_type": "code",
   "execution_count": 34,
   "metadata": {
    "collapsed": false
   },
   "outputs": [
    {
     "data": {
      "image/png": "[encoded data removed]",
      "text/plain": [
       "<matplotlib.figure.Figure at 0x1101a0f90>"
      ]
     },
     "metadata": {},
     "output_type": "display_data"
    }
   ],
   "source": [
    "sns.set_context(\"poster\")\n",
    "plt.figure()\n",
    "with sns.axes_style(\"darkgrid\"):\n",
    "    plt.plot(K_list, [np.mean(recall[i,:]) for i in range(len(K_list))], label=\"Average Recall At K\")\n",
    "    plt.xlabel(\"Number of Recommendations\")\n",
    "    plt.ylabel(\"Average Recall\")\n",
    "    plt.legend()\n",
    "    plt.show()"
   ]
  },
  {
   "cell_type": "code",
   "execution_count": null,
   "metadata": {
    "collapsed": true
   },
   "outputs": [],
   "source": []
  }
 ],
 "metadata": {
  "kernelspec": {
   "display_name": "Python 2",
   "language": "python",
   "name": "python2"
  },
  "language_info": {
   "codemirror_mode": {
    "name": "ipython",
    "version": 2
   },
   "file_extension": ".py",
   "mimetype": "text/x-python",
   "name": "python",
   "nbconvert_exporter": "python",
   "pygments_lexer": "ipython2",
   "version": "2.7.13"
  }
 },
 "nbformat": 4,
 "nbformat_minor": 1
}
