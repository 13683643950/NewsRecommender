{
 "cells": [
  {
   "cell_type": "code",
   "execution_count": 18,
   "metadata": {
    "collapsed": false
   },
   "outputs": [],
   "source": [
    "from sklearn import cluster\n",
    "from sklearn.metrics.pairwise import cosine_similarity, euclidean_distances\n",
    "\n",
    "import pandas as pd\n",
    "import numpy as np\n",
    "\n",
    "import re\n",
    "from time import sleep\n",
    "\n",
    "import pickle\n",
    "from pymongo import MongoClient\n",
    "\n",
    "import matplotlib.pyplot as plt\n",
    "%matplotlib inline"
   ]
  },
  {
   "cell_type": "code",
   "execution_count": 19,
   "metadata": {
    "collapsed": true
   },
   "outputs": [],
   "source": [
    "import pprint\n",
    "\n",
    "def SaveDict(filename, mode, root):\n",
    "    if filename[-4:]!=\".txt\":\n",
    "        filename+=\".txt\"\n",
    "    with open(filename, mode) as f:\n",
    "        f.write(pprint.pformat(root))\n",
    "\n",
    "def LoadDict(filename):\n",
    "    if filename[-4:]!=\".txt\":\n",
    "        filename+=\".txt\"\n",
    "    with open(filename, \"r\") as f:\n",
    "        return eval(f.read())"
   ]
  },
  {
   "cell_type": "code",
   "execution_count": 20,
   "metadata": {
    "collapsed": false
   },
   "outputs": [],
   "source": [
    "client = MongoClient()\n",
    "db = client.twitter"
   ]
  },
  {
   "cell_type": "code",
   "execution_count": 28,
   "metadata": {
    "collapsed": false
   },
   "outputs": [],
   "source": [
    "def hellinger_dist(vec1, vec2):\n",
    "    dist = np.sqrt(0.5 * ((np.sqrt(vec1) - np.sqrt(vec2))**2).sum())\n",
    "    return dist"
   ]
  },
  {
   "cell_type": "code",
   "execution_count": 29,
   "metadata": {
    "collapsed": true
   },
   "outputs": [],
   "source": [
    "def to_vec(topic_dict):\n",
    "    vec = []\n",
    "    for topic in topic_dict:\n",
    "        vec.append(topic.split(\" \")[1], topic_dict[topic])\n",
    "    return vec"
   ]
  },
  {
   "cell_type": "code",
   "execution_count": 48,
   "metadata": {
    "collapsed": false
   },
   "outputs": [],
   "source": [
    "def get_user_vec(name, n_topics):\n",
    "    user = db.user_merge.find_one({\"name\": name})\n",
    "    if user:\n",
    "        topic_vec = np.zeros(n_topics)\n",
    "        for i in range(n_topics):\n",
    "            if \"topic \"+str(i) in user:\n",
    "                topic_vec[i] = user[\"topic \"+str(i)]\n",
    "        return topic_vec\n",
    "    else:\n",
    "        return \"user not found!\""
   ]
  },
  {
   "cell_type": "code",
   "execution_count": 49,
   "metadata": {
    "collapsed": true
   },
   "outputs": [],
   "source": [
    "group_topics = pickle.load(open('./data/group_lda_bow_topics.pkl','rb'))"
   ]
  },
  {
   "cell_type": "code",
   "execution_count": 50,
   "metadata": {
    "collapsed": true
   },
   "outputs": [],
   "source": [
    "def predict_user_group(name):\n",
    "    dist = np.zeros(len(group_topics))\n",
    "    for i in range(len(group_topics)):\n",
    "        user_vec = get_user_vec(name, len(group_topics[i]))\n",
    "        dist[i] = hellinger_sim(group_topics[i], user_vec)\n",
    "    return np.argmin(dist)"
   ]
  },
  {
   "cell_type": "code",
   "execution_count": 51,
   "metadata": {
    "collapsed": false
   },
   "outputs": [
    {
     "name": "stdout",
     "output_type": "stream",
     "text": [
      "0.293089878797\n"
     ]
    }
   ],
   "source": [
    "accuracy = 0\n",
    "count = 0\n",
    "for user in db.active_users.find():\n",
    "    pred_group = predict_user_group(user[\"name\"])\n",
    "    true_group = user[\"label\"]\n",
    "    accuracy += (pred_group==true_group)\n",
    "    count += 1\n",
    "print accuracy/float(count)"
   ]
  },
  {
   "cell_type": "code",
   "execution_count": null,
   "metadata": {
    "collapsed": true
   },
   "outputs": [],
   "source": [
    "similarity = gensim.matutils.cossim(lda_vec1, lda_vec2)"
   ]
  }
 ],
 "metadata": {
  "kernelspec": {
   "display_name": "Python 2",
   "language": "python",
   "name": "python2"
  },
  "language_info": {
   "codemirror_mode": {
    "name": "ipython",
    "version": 2
   },
   "file_extension": ".py",
   "mimetype": "text/x-python",
   "name": "python",
   "nbconvert_exporter": "python",
   "pygments_lexer": "ipython2",
   "version": "2.7.13"
  }
 },
 "nbformat": 4,
 "nbformat_minor": 1
}
