{
 "cells": [
  {
   "cell_type": "code",
   "execution_count": 4,
   "metadata": {
    "collapsed": true
   },
   "outputs": [],
   "source": [
    "from sqlalchemy import create_engine\n",
    "from sqlalchemy_utils import database_exists, create_database\n",
    "import psycopg2\n",
    "\n",
    "import tweepy\n",
    "import newspaper\n",
    "\n",
    "import gensim\n",
    "from gensim import corpora, models\n",
    "from nltk.stem import WordNetLemmatizer\n",
    "from stop_words import get_stop_words\n",
    "\n",
    "from sklearn import cluster\n",
    "from sklearn.metrics.pairwise import cosine_similarity, euclidean_distances\n",
    "\n",
    "import pandas as pd\n",
    "import numpy as np\n",
    "\n",
    "import re\n",
    "from time import sleep\n",
    "\n",
    "import pickle\n",
    "config\n",
    "\n",
    "import matplotlib.pyplot as plt\n",
    "%matplotlib inline"
   ]
  },
  {
   "cell_type": "code",
   "execution_count": 2,
   "metadata": {
    "collapsed": true
   },
   "outputs": [],
   "source": [
    "import pprint\n",
    "\n",
    "def SaveDict(filename, mode, root):\n",
    "    if filename[-4:]!=\".txt\":\n",
    "        filename+=\".txt\"\n",
    "    with open(filename, mode) as f:\n",
    "        f.write(pprint.pformat(root))\n",
    "\n",
    "def LoadDict(filename):\n",
    "    if filename[-4:]!=\".txt\":\n",
    "        filename+=\".txt\"\n",
    "    with open(filename, \"r\") as f:\n",
    "        return eval(f.read())"
   ]
  },
  {
   "cell_type": "code",
   "execution_count": 3,
   "metadata": {
    "collapsed": false
   },
   "outputs": [],
   "source": [
    "def twitter_profile(screen_name,api,num_tweets=1000):\n",
    "    \n",
    "    tweets = []\n",
    "    for tweet in tweepy.Cursor(api.user_timeline, screen_name=screen_name, count=200, include_rts=True).pages(num_tweets/200):\n",
    "        tweets += tweet\n",
    "    tweets = [[tweet.text,[url['expanded_url'] for url in tweet.entities['urls']]] for tweet in tweets]\n",
    "\n",
    "    return tweets"
   ]
  },
  {
   "cell_type": "code",
   "execution_count": null,
   "metadata": {
    "collapsed": false
   },
   "outputs": [],
   "source": [
    "auth = tweepy.AppAuthHandler(config[\"consumer_key\"], config[\"consumer_secret\"])\n",
    "api = tweepy.API(auth, wait_on_rate_limit=True, wait_on_rate_limit_notify=True)\n",
    "tweets = twitter_profile(\"huangy22\",api)"
   ]
  },
  {
   "cell_type": "code",
   "execution_count": null,
   "metadata": {
    "collapsed": true
   },
   "outputs": [],
   "source": [
    "def twitter_links(tweets,conn):\n",
    "        \n",
    "    url1 = pub_twitter['short_url'][pub_twitter['short_url'].notnull() \n",
    "                     & ~(pub_twitter['short_url'].isin(['http','bit.ly','ow.ly','buff.ly',\n",
    "                                                         'trib.al','yhoo.it','buzzfeed.com']))].values.tolist() \n",
    "    url2 = pub_twitter['long_url'].values.tolist()\n",
    "    pattern = '|'.join(map(re.escape,url1+url2))\n",
    "    \n",
    "    tweets = pd.DataFrame(tweets)\n",
    "    tweets.columns = ['text','url']\n",
    "    tweets['url'] = tweets['url'].apply(lambda x: ', '.join(x))\n",
    "    \n",
    "    links = tweets['url'][tweets['url'].str.contains(pattern)].values.tolist()\n",
    "    links = [link.split(',')[0] for link in links]\n",
    "    \n",
    "    return links,tweets"
   ]
  }
 ],
 "metadata": {
  "kernelspec": {
   "display_name": "Python 2",
   "language": "python",
   "name": "python2"
  },
  "language_info": {
   "codemirror_mode": {
    "name": "ipython",
    "version": 2
   },
   "file_extension": ".py",
   "mimetype": "text/x-python",
   "name": "python",
   "nbconvert_exporter": "python",
   "pygments_lexer": "ipython2",
   "version": "2.7.13"
  }
 },
 "nbformat": 4,
 "nbformat_minor": 1
}
